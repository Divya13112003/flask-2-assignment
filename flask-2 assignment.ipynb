{
 "cells": [
  {
   "cell_type": "code",
   "execution_count": null,
   "id": "231a7ceb-c9d2-4f45-8b98-03bcff393fb8",
   "metadata": {},
   "outputs": [],
   "source": [
    " Q1. Explain GET and POST methods.\n",
    "\n",
    "\n",
    "Two commonly used methods for a request-response between a client and server are: GET and POST.\n",
    "\n",
    "GET - Requests data from a specified resource\n",
    "POST - Submits data to be processed to a specified resource\n",
    "\n",
    "GET is basically used for just getting (retrieving) some data from the server. Note: The GET method may\n",
    "return cached data.\n",
    "\n",
    "POST can also be used to get some data from the server. However, the POST method NEVER caches data, \n",
    "and is often used to send data along with the request."
   ]
  },
  {
   "cell_type": "code",
   "execution_count": null,
   "id": "fc3ae5d3-b962-480a-894c-d96313705c2d",
   "metadata": {},
   "outputs": [],
   "source": [
    "Q2. Why is request used in Flask?\n",
    "\n",
    "\n",
    "When the Flask application handles a request, it creates a Request object based on the environment it\n",
    "received from the WSGI server. Because a worker (thread, process, or coroutine depending on the server)\n",
    "handles only one request at a time, the request data can be considered global to that worker during that \n",
    "request."
   ]
  },
  {
   "cell_type": "code",
   "execution_count": null,
   "id": "1ac5be24-e4af-49aa-be23-122bde177ac8",
   "metadata": {},
   "outputs": [],
   "source": [
    " Q3. Why is redirect() used in Flask?\n",
    "    \n",
    "    \n",
    "The redirect function allows you to redirect the user to another URL. redirect can be used in \n",
    "Server Components, Route Handlers, and Server Actions.    "
   ]
  },
  {
   "cell_type": "code",
   "execution_count": null,
   "id": "e8034042-183f-4402-b260-fefd904fe64a",
   "metadata": {},
   "outputs": [],
   "source": [
    " Q4. What are templates in Flask? Why is the render_template() function used?\n",
    "    \n",
    "    \n",
    " A template is rendered with specific data to produce a final document. Flask uses the Jinja template\n",
    "library to render templates. In your application, you will use templates to render HTML which will display\n",
    "in the user's browser. In Flask, Jinja is configured to autoescape any data that is rendered in HTML templates.\n",
    "\n",
    "The render_template() function renders HTML files for display in the web browser using the Jinja2 template\n",
    "engine. Its sole positional argument is the name of the template to be rendered. Keyword arguments can be\n",
    "added to support application variables within the template."
   ]
  },
  {
   "cell_type": "code",
   "execution_count": null,
   "id": "c46d9663-a888-44b7-a489-6ca72e373f84",
   "metadata": {},
   "outputs": [],
   "source": [
    "Q5. Create a simple API. Use Postman to test it. Attach the screenshot of the output in the Jupyter Notebook.\n",
    "\n",
    "\n",
    "from flask import Flask, jsonify, request\n",
    "\n",
    "app = Flask(__name__)\n",
    "\n",
    "# Define the company and employees data\n",
    "company = {'name': 'Acme Inc.', 'employees': [\n",
    "    {'name': 'Sarfraj', 'title': 'Data Scientist'},\n",
    "    {'name': 'Abhishek ', 'title': 'Web Developer'},\n",
    "    {'name': 'Faizan ', 'title': 'Sales Manager'}\n",
    "]}\n",
    "\n",
    "# Define a route to get the company name\n",
    "@app.route('/company/name', methods=['GET'])\n",
    "def get_company_name():\n",
    "    return jsonify({'name': company['name']})\n",
    "\n",
    "# Define a route to get the employees\n",
    "@app.route('/company/employees', methods=['GET'])\n",
    "def get_employees():\n",
    "    return jsonify({'employees': company['employees']})\n",
    "\n",
    "# Define a route to add an employee\n",
    "@app.route('/company/employees', methods=['POST'])\n",
    "def add_employee():\n",
    "    employee = request.get_json()\n",
    "    company['employees'].append(employee)\n",
    "    return jsonify({'employees': company['employees']})\n",
    "if __name__ == '__main__':\n",
    "    app.run(debug=True)"
   ]
  }
 ],
 "metadata": {
  "kernelspec": {
   "display_name": "Python 3 (ipykernel)",
   "language": "python",
   "name": "python3"
  },
  "language_info": {
   "codemirror_mode": {
    "name": "ipython",
    "version": 3
   },
   "file_extension": ".py",
   "mimetype": "text/x-python",
   "name": "python",
   "nbconvert_exporter": "python",
   "pygments_lexer": "ipython3",
   "version": "3.10.8"
  }
 },
 "nbformat": 4,
 "nbformat_minor": 5
}
